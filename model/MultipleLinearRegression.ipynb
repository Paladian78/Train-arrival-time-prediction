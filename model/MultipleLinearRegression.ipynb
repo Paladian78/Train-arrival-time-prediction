{
 "cells": [
  {
   "cell_type": "code",
   "execution_count": 2,
   "id": "8d5141e1",
   "metadata": {},
   "outputs": [],
   "source": [
    "# Importing the libraries\n",
    "import numpy as np\n",
    "import matplotlib.pyplot as plt\n",
    "import pandas as pd\n",
    "import pickle"
   ]
  },
  {
   "cell_type": "code",
   "execution_count": 8,
   "id": "fb7bf93a",
   "metadata": {},
   "outputs": [
    {
     "data": {
      "text/plain": [
       "[12004,\n",
       " 12004,\n",
       " 12004,\n",
       " 12004,\n",
       " 12004,\n",
       " 12004,\n",
       " 12004,\n",
       " 12004,\n",
       " 12004,\n",
       " 12004,\n",
       " 12004,\n",
       " 12004,\n",
       " 12004,\n",
       " 12004,\n",
       " 12005,\n",
       " 12006,\n",
       " 12007,\n",
       " 12008,\n",
       " 12009,\n",
       " 12010,\n",
       " 12011,\n",
       " 12012,\n",
       " 12013,\n",
       " 12014,\n",
       " 12015,\n",
       " 12016,\n",
       " 12017,\n",
       " 12018,\n",
       " 12420,\n",
       " 12421,\n",
       " 12422,\n",
       " 12423,\n",
       " 12424,\n",
       " 12425,\n",
       " 12426,\n",
       " 12427,\n",
       " 12428,\n",
       " 12429,\n",
       " 12430,\n",
       " 12431,\n",
       " 12432,\n",
       " 12433,\n",
       " 12434,\n",
       " 12435,\n",
       " 12436,\n",
       " 12437,\n",
       " 12438,\n",
       " 12439,\n",
       " 12440,\n",
       " 12441,\n",
       " 12442,\n",
       " 12443,\n",
       " 12444,\n",
       " 12445,\n",
       " 12446,\n",
       " 12447,\n",
       " 12554,\n",
       " 12555,\n",
       " 12556,\n",
       " 12557,\n",
       " 12558,\n",
       " 12559,\n",
       " 12560,\n",
       " 12561,\n",
       " 12562,\n",
       " 12563,\n",
       " 12564,\n",
       " 12565,\n",
       " 12566,\n",
       " 12567,\n",
       " 12568,\n",
       " 12569,\n",
       " 12570,\n",
       " 12571,\n",
       " 12572,\n",
       " 12573,\n",
       " 12574,\n",
       " 12575,\n",
       " 12576,\n",
       " 12577,\n",
       " 12578,\n",
       " 12579,\n",
       " 12580,\n",
       " 12581,\n",
       " 18101,\n",
       " 18101,\n",
       " 18101,\n",
       " 18101,\n",
       " 18101,\n",
       " 18101,\n",
       " 18101,\n",
       " 18101,\n",
       " 18101,\n",
       " 18101,\n",
       " 18101,\n",
       " 18101,\n",
       " 18101,\n",
       " 18101,\n",
       " 18101,\n",
       " 18101,\n",
       " 18101,\n",
       " 18101,\n",
       " 18101,\n",
       " 18101,\n",
       " 18101,\n",
       " 12424,\n",
       " 12425,\n",
       " 12426,\n",
       " 12427,\n",
       " 12428,\n",
       " 12429,\n",
       " 12430,\n",
       " 12431,\n",
       " 12432,\n",
       " 12433,\n",
       " 12434,\n",
       " 12435,\n",
       " 12436,\n",
       " 12437,\n",
       " 12438,\n",
       " 12439,\n",
       " 12440,\n",
       " 12441,\n",
       " 12442,\n",
       " 12443,\n",
       " 12444,\n",
       " 12445,\n",
       " 12446,\n",
       " 12447,\n",
       " 12448,\n",
       " 12449,\n",
       " 12450,\n",
       " 12451,\n",
       " 12402,\n",
       " 12403,\n",
       " 12404,\n",
       " 12405,\n",
       " 12406,\n",
       " 12407,\n",
       " 12408,\n",
       " 12409,\n",
       " 12410,\n",
       " 12411,\n",
       " 12412,\n",
       " 12413,\n",
       " 12414,\n",
       " 12415,\n",
       " 12416,\n",
       " 12417,\n",
       " 12418,\n",
       " 12419,\n",
       " 12420,\n",
       " 12421,\n",
       " 12422,\n",
       " 12423,\n",
       " 12424,\n",
       " 12425,\n",
       " 12426,\n",
       " 12427,\n",
       " 12428,\n",
       " 12429,\n",
       " 12506,\n",
       " 12507,\n",
       " 12508,\n",
       " 12509,\n",
       " 12510,\n",
       " 12511,\n",
       " 12512,\n",
       " 12513,\n",
       " 12514,\n",
       " 12515,\n",
       " 12516,\n",
       " 12517,\n",
       " 12518,\n",
       " 12519,\n",
       " 12520,\n",
       " 12521,\n",
       " 12522,\n",
       " 12523,\n",
       " 12524,\n",
       " 12525,\n",
       " 12526,\n",
       " 12527,\n",
       " 12528,\n",
       " 12529,\n",
       " 12530,\n",
       " 12531,\n",
       " 12532,\n",
       " 12533,\n",
       " 12138,\n",
       " 12138,\n",
       " 12138,\n",
       " 12138,\n",
       " 12138,\n",
       " 12138,\n",
       " 12138,\n",
       " 12138,\n",
       " 12138,\n",
       " 12138,\n",
       " 12138,\n",
       " 12138,\n",
       " 12138,\n",
       " 12138,\n",
       " 12138,\n",
       " 12138,\n",
       " 12138,\n",
       " 12138,\n",
       " 12138,\n",
       " 12138,\n",
       " 12138,\n",
       " 12138,\n",
       " 12138,\n",
       " 12138,\n",
       " 12138,\n",
       " 12138,\n",
       " 12138,\n",
       " 12138,\n",
       " 12138,\n",
       " 12138,\n",
       " 12138,\n",
       " 12138,\n",
       " 12138,\n",
       " 12138,\n",
       " 12138,\n",
       " 12138,\n",
       " 12138,\n",
       " 12138,\n",
       " 12138,\n",
       " 12138,\n",
       " 12138,\n",
       " 12138,\n",
       " 12138,\n",
       " 12138,\n",
       " 12138,\n",
       " 12138,\n",
       " 12138,\n",
       " 12138,\n",
       " 12138,\n",
       " 12138,\n",
       " 12138,\n",
       " 12138,\n",
       " 12138,\n",
       " 12138,\n",
       " 12138,\n",
       " 12138,\n",
       " 18238,\n",
       " 18238,\n",
       " 18238,\n",
       " 18238,\n",
       " 18238,\n",
       " 18238,\n",
       " 18238,\n",
       " 18238,\n",
       " 18238,\n",
       " 18238,\n",
       " 18238,\n",
       " 18238,\n",
       " 18238,\n",
       " 18238,\n",
       " 18238,\n",
       " 18238,\n",
       " 18238,\n",
       " 18238,\n",
       " 18238,\n",
       " 18238,\n",
       " 18238,\n",
       " 18238,\n",
       " 18238,\n",
       " 18238,\n",
       " 18238,\n",
       " 18238,\n",
       " 18238,\n",
       " 18238,\n",
       " 18238,\n",
       " 18238,\n",
       " 18238,\n",
       " 18238,\n",
       " 18238,\n",
       " 18238,\n",
       " 18238,\n",
       " 18238,\n",
       " 18238,\n",
       " 18238,\n",
       " 18238,\n",
       " 18238,\n",
       " 18238,\n",
       " 18238,\n",
       " 18238,\n",
       " 18238,\n",
       " 18238,\n",
       " 18238,\n",
       " 18238,\n",
       " 18238,\n",
       " 12011,\n",
       " 12011,\n",
       " 12011,\n",
       " 12011,\n",
       " 12011,\n",
       " 12011,\n",
       " 12011,\n",
       " 12011,\n",
       " 12011,\n",
       " 12011,\n",
       " 12011,\n",
       " 12011,\n",
       " 12011,\n",
       " 12011,\n",
       " 12011,\n",
       " 12011,\n",
       " 12011,\n",
       " 12011,\n",
       " 12011,\n",
       " 12011,\n",
       " 12011,\n",
       " 14095,\n",
       " 14095,\n",
       " 14095,\n",
       " 14095,\n",
       " 14095,\n",
       " 14095,\n",
       " 14095,\n",
       " 14095,\n",
       " 14095,\n",
       " 14095,\n",
       " 14095,\n",
       " 14095,\n",
       " 14095,\n",
       " 14095,\n",
       " 14095,\n",
       " 14095,\n",
       " 14095,\n",
       " 14095,\n",
       " 14095,\n",
       " 14095,\n",
       " 14095,\n",
       " 14645,\n",
       " 14645,\n",
       " 14645,\n",
       " 14645,\n",
       " 14645,\n",
       " 14645,\n",
       " 14645,\n",
       " 14645,\n",
       " 14645,\n",
       " 14645,\n",
       " 14645,\n",
       " 14645,\n",
       " 14645,\n",
       " 14645,\n",
       " 14645,\n",
       " 14645,\n",
       " 14645,\n",
       " 14645,\n",
       " 14645,\n",
       " 14645,\n",
       " 14645,\n",
       " 12002,\n",
       " 12002,\n",
       " 12002,\n",
       " 12002,\n",
       " 12002,\n",
       " 12002,\n",
       " 12002,\n",
       " 12002,\n",
       " 12002,\n",
       " 12002,\n",
       " 12002,\n",
       " 12002,\n",
       " 12002,\n",
       " 12002,\n",
       " 12002,\n",
       " 12002,\n",
       " 12002,\n",
       " 12002,\n",
       " 12002,\n",
       " 12002,\n",
       " 12002,\n",
       " 12002,\n",
       " 12002,\n",
       " 12002,\n",
       " 12002,\n",
       " 12002,\n",
       " 12002,\n",
       " 12002,\n",
       " 12002,\n",
       " 12002,\n",
       " 12002,\n",
       " 12002,\n",
       " 12002,\n",
       " 12002,\n",
       " 12002,\n",
       " 12002,\n",
       " 12002,\n",
       " 12002,\n",
       " 12002,\n",
       " 12002,\n",
       " 12002,\n",
       " 12002,\n",
       " 12002,\n",
       " 12002,\n",
       " 12002,\n",
       " 12002,\n",
       " 12002,\n",
       " 12002,\n",
       " 12002,\n",
       " 12002,\n",
       " 12002,\n",
       " 12002,\n",
       " 12002,\n",
       " 12002,\n",
       " 12002,\n",
       " 12002,\n",
       " 12925,\n",
       " 12925,\n",
       " 12925,\n",
       " 12925,\n",
       " 12925,\n",
       " 12925,\n",
       " 12925,\n",
       " 12925,\n",
       " 12925,\n",
       " 12925,\n",
       " 12925,\n",
       " 12925,\n",
       " 12925,\n",
       " 12925,\n",
       " 12925,\n",
       " 12925,\n",
       " 12925,\n",
       " 12925,\n",
       " 12925,\n",
       " 12925,\n",
       " 12925,\n",
       " 12445,\n",
       " 12445,\n",
       " 12445,\n",
       " 12445,\n",
       " 12445,\n",
       " 12445,\n",
       " 12445,\n",
       " 12445,\n",
       " 12445,\n",
       " 12445,\n",
       " 12445,\n",
       " 12445,\n",
       " 12445,\n",
       " 12445,\n",
       " 12445,\n",
       " 12445,\n",
       " 12445,\n",
       " 12445,\n",
       " 12445,\n",
       " 12445,\n",
       " 12445]"
      ]
     },
     "execution_count": 8,
     "metadata": {},
     "output_type": "execute_result"
    }
   ],
   "source": [
    "dataset = pd.read_csv('train_data.csv')\n",
    "# dataset.head()\n",
    "n = dataset['TrainNo'].tolist()\n",
    "n"
   ]
  },
  {
   "cell_type": "code",
   "execution_count": 163,
   "id": "6701d5da",
   "metadata": {},
   "outputs": [],
   "source": [
    "X = dataset.iloc[:, 2:6].values\n",
    "y = dataset.iloc[:, -1].values"
   ]
  },
  {
   "cell_type": "code",
   "execution_count": 164,
   "id": "eaf18ac0",
   "metadata": {},
   "outputs": [
    {
     "data": {
      "text/plain": [
       "array([1, 0, 1, 5], dtype=int64)"
      ]
     },
     "execution_count": 164,
     "metadata": {},
     "output_type": "execute_result"
    }
   ],
   "source": [
    "X[53]"
   ]
  },
  {
   "cell_type": "code",
   "execution_count": 165,
   "id": "4597f2ef",
   "metadata": {},
   "outputs": [],
   "source": [
    "from sklearn.compose import ColumnTransformer\n",
    "from sklearn.preprocessing import OneHotEncoder\n",
    "#days basis\n",
    "ct = ColumnTransformer(transformers =[('encoder', OneHotEncoder(), [-1])], remainder='passthrough')\n",
    "X = np.array(ct.fit_transform(X))"
   ]
  },
  {
   "cell_type": "code",
   "execution_count": 166,
   "id": "6d231614",
   "metadata": {},
   "outputs": [
    {
     "data": {
      "text/plain": [
       "array([0., 0., 0., 0., 1., 0., 0., 1., 0., 1.])"
      ]
     },
     "execution_count": 166,
     "metadata": {},
     "output_type": "execute_result"
    }
   ],
   "source": [
    "X[53] #first 7 are days, type, distance, region"
   ]
  },
  {
   "cell_type": "code",
   "execution_count": 167,
   "id": "29b86255",
   "metadata": {},
   "outputs": [],
   "source": [
    "#region basis\n",
    "ct2 = ColumnTransformer(transformers =[('encoder', OneHotEncoder(), [-1])], remainder='passthrough')\n",
    "X = np.array(ct2.fit_transform(X))"
   ]
  },
  {
   "cell_type": "code",
   "execution_count": 168,
   "id": "8afd57fd",
   "metadata": {},
   "outputs": [
    {
     "data": {
      "text/plain": [
       "array([1., 0., 0., 0., 0., 0., 0., 1., 0., 0., 1., 0.])"
      ]
     },
     "execution_count": 168,
     "metadata": {},
     "output_type": "execute_result"
    }
   ],
   "source": [
    "X[53]   #first 3 are regions, next 7 are days, type, distance, region"
   ]
  },
  {
   "cell_type": "code",
   "execution_count": 169,
   "id": "248c6868",
   "metadata": {},
   "outputs": [
    {
     "data": {
      "text/plain": [
       "55"
      ]
     },
     "execution_count": 169,
     "metadata": {},
     "output_type": "execute_result"
    }
   ],
   "source": [
    "y[53]"
   ]
  },
  {
   "cell_type": "code",
   "execution_count": 170,
   "id": "c9251e14",
   "metadata": {},
   "outputs": [],
   "source": [
    "from sklearn.model_selection import train_test_split\n",
    "X_train, X_test, y_train, y_test = train_test_split(X, y, test_size = 0.25, random_state = 0)"
   ]
  },
  {
   "cell_type": "code",
   "execution_count": 171,
   "id": "94520b7c",
   "metadata": {},
   "outputs": [
    {
     "data": {
      "text/plain": [
       "LinearRegression()"
      ]
     },
     "execution_count": 171,
     "metadata": {},
     "output_type": "execute_result"
    }
   ],
   "source": [
    "from sklearn.linear_model import LinearRegression\n",
    "regressor = LinearRegression()\n",
    "regressor.fit(X_train, y_train)"
   ]
  },
  {
   "cell_type": "code",
   "execution_count": 174,
   "id": "4e5091ee",
   "metadata": {},
   "outputs": [],
   "source": [
    "y_pred = regressor.predict(X_test)\n",
    "# print(y_pred)"
   ]
  },
  {
   "cell_type": "code",
   "execution_count": 175,
   "id": "c5b1dc50",
   "metadata": {},
   "outputs": [
    {
     "data": {
      "text/plain": [
       "31.0"
      ]
     },
     "execution_count": 175,
     "metadata": {},
     "output_type": "execute_result"
    }
   ],
   "source": [
    "x = [[0., 0., 1., 0., 0., 0., 0., 0., 1., 0., 0., 1.]]\n",
    "regressor.predict(x)[0]"
   ]
  },
  {
   "cell_type": "code",
   "execution_count": 178,
   "id": "f38cc180",
   "metadata": {},
   "outputs": [
    {
     "data": {
      "text/plain": [
       "Text(0.5, 1.0, 'Actual vs Predicted')"
      ]
     },
     "execution_count": 178,
     "metadata": {},
     "output_type": "execute_result"
    },
    {
     "data": {
      "image/png": "[encoded data removed]",
      "text/plain": [
       "<Figure size 1080x720 with 1 Axes>"
      ]
     },
     "metadata": {
      "needs_background": "light"
     },
     "output_type": "display_data"
    }
   ],
   "source": [
    "plt.figure(figsize=(15,10))\n",
    "plt.scatter(y_test,y_pred)\n",
    "plt.xlabel('Actual')\n",
    "plt.ylabel('Predicted')\n",
    "plt.title('Actual vs Predicted')"
   ]
  },
  {
   "cell_type": "code",
   "execution_count": 179,
   "id": "b94d8cd8",
   "metadata": {},
   "outputs": [
    {
     "data": {
      "text/html": [
       "<div>\n",
       "<style scoped>\n",
       "    .dataframe tbody tr th:only-of-type {\n",
       "        vertical-align: middle;\n",
       "    }\n",
       "\n",
       "    .dataframe tbody tr th {\n",
       "        vertical-align: top;\n",
       "    }\n",
       "\n",
       "    .dataframe thead th {\n",
       "        text-align: right;\n",
       "    }\n",
       "</style>\n",
       "<table border=\"1\" class=\"dataframe\">\n",
       "  <thead>\n",
       "    <tr style=\"text-align: right;\">\n",
       "      <th></th>\n",
       "      <th>Actual Value</th>\n",
       "      <th>Predicted Values</th>\n",
       "      <th>Difference</th>\n",
       "    </tr>\n",
       "  </thead>\n",
       "  <tbody>\n",
       "    <tr>\n",
       "      <th>10</th>\n",
       "      <td>19</td>\n",
       "      <td>31.0</td>\n",
       "      <td>-12.0</td>\n",
       "    </tr>\n",
       "    <tr>\n",
       "      <th>11</th>\n",
       "      <td>164</td>\n",
       "      <td>171.0</td>\n",
       "      <td>-7.0</td>\n",
       "    </tr>\n",
       "    <tr>\n",
       "      <th>12</th>\n",
       "      <td>19</td>\n",
       "      <td>68.0</td>\n",
       "      <td>-49.0</td>\n",
       "    </tr>\n",
       "    <tr>\n",
       "      <th>13</th>\n",
       "      <td>40</td>\n",
       "      <td>48.0</td>\n",
       "      <td>-8.0</td>\n",
       "    </tr>\n",
       "    <tr>\n",
       "      <th>14</th>\n",
       "      <td>266</td>\n",
       "      <td>171.0</td>\n",
       "      <td>95.0</td>\n",
       "    </tr>\n",
       "    <tr>\n",
       "      <th>15</th>\n",
       "      <td>27</td>\n",
       "      <td>33.0</td>\n",
       "      <td>-6.0</td>\n",
       "    </tr>\n",
       "    <tr>\n",
       "      <th>16</th>\n",
       "      <td>29</td>\n",
       "      <td>131.0</td>\n",
       "      <td>-102.0</td>\n",
       "    </tr>\n",
       "    <tr>\n",
       "      <th>17</th>\n",
       "      <td>36</td>\n",
       "      <td>31.0</td>\n",
       "      <td>5.0</td>\n",
       "    </tr>\n",
       "    <tr>\n",
       "      <th>18</th>\n",
       "      <td>23</td>\n",
       "      <td>37.0</td>\n",
       "      <td>-14.0</td>\n",
       "    </tr>\n",
       "    <tr>\n",
       "      <th>19</th>\n",
       "      <td>10</td>\n",
       "      <td>21.0</td>\n",
       "      <td>-11.0</td>\n",
       "    </tr>\n",
       "  </tbody>\n",
       "</table>\n",
       "</div>"
      ],
      "text/plain": [
       "    Actual Value  Predicted Values  Difference\n",
       "10            19              31.0       -12.0\n",
       "11           164             171.0        -7.0\n",
       "12            19              68.0       -49.0\n",
       "13            40              48.0        -8.0\n",
       "14           266             171.0        95.0\n",
       "15            27              33.0        -6.0\n",
       "16            29             131.0      -102.0\n",
       "17            36              31.0         5.0\n",
       "18            23              37.0       -14.0\n",
       "19            10              21.0       -11.0"
      ]
     },
     "execution_count": 179,
     "metadata": {},
     "output_type": "execute_result"
    }
   ],
   "source": [
    "y_pred_df = pd.DataFrame({'Actual Value':y_test,'Predicted Values': y_pred, 'Difference':y_test-y_pred})\n",
    "y_pred_df[10:20]"
   ]
  },
  {
   "cell_type": "code",
   "execution_count": 181,
   "id": "00691ad1",
   "metadata": {},
   "outputs": [
    {
     "name": "stdout",
     "output_type": "stream",
     "text": [
      "Coefficients: \n",
      " [ 5.86928234e+15  5.86928234e+15  5.86928234e+15 -9.77265962e+15\n",
      " -9.77265962e+15 -9.77265962e+15 -9.77265962e+15 -9.77265962e+15\n",
      " -9.77265962e+15 -9.77265962e+15  7.80345395e+01  5.58294244e+01]\n"
     ]
    }
   ],
   "source": [
    "print('Coefficients: \\n', regressor.coef_)"
   ]
  },
  {
   "cell_type": "code",
   "execution_count": 182,
   "id": "70e760db",
   "metadata": {},
   "outputs": [
    {
     "name": "stdout",
     "output_type": "stream",
     "text": [
      "Train Score:  0.5156826967583082\n",
      "Test Score:  0.5188893575153475\n"
     ]
    }
   ],
   "source": [
    "print('Train Score: ', regressor.score(X_train, y_train))  \n",
    "print('Test Score: ', regressor.score(X_test, y_test))  "
   ]
  },
  {
   "cell_type": "markdown",
   "id": "e2675d61",
   "metadata": {},
   "source": [
    "The above score tells that our model is 51% accurate with the training dataset and 53% accurate with the test dataset."
   ]
  },
  {
   "cell_type": "code",
   "execution_count": 186,
   "id": "00b579e0",
   "metadata": {},
   "outputs": [
    {
     "name": "stdout",
     "output_type": "stream",
     "text": [
      "Mean squared error: 3110.01\n",
      "r2 calculated :  0.5188893575153475\n"
     ]
    }
   ],
   "source": [
    "from sklearn.metrics import mean_squared_error, r2_score\n",
    "print(\"Mean squared error: %.2f\" % mean_squared_error(y_test,y_pred))\n",
    "print(\"r2 calculated : \",r2_score(y_test,y_pred))"
   ]
  }
 ],
 "metadata": {
  "kernelspec": {
   "display_name": "Python 3",
   "language": "python",
   "name": "python3"
  },
  "language_info": {
   "codemirror_mode": {
    "name": "ipython",
    "version": 3
   },
   "file_extension": ".py",
   "mimetype": "text/x-python",
   "name": "python",
   "nbconvert_exporter": "python",
   "pygments_lexer": "ipython3",
   "version": "3.10.0"
  }
 },
 "nbformat": 4,
 "nbformat_minor": 5
}
